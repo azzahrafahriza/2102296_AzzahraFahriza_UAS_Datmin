{
 "cells": [
  {
   "cell_type": "markdown",
   "id": "b1e47ed4",
   "metadata": {},
   "source": [
    "## Nama : Azzahra Fahriza\n",
    "## NIM : 2102296"
   ]
  },
  {
   "cell_type": "markdown",
   "id": "f595ea73",
   "metadata": {},
   "source": [
    "Saya memilih dataset kepadatan penduduk karena sepertinya lebih mudah di pahami oleh saya\n",
    "##### rencana:\n",
    "\n",
    "pertama, saya akan menggabungkan dulu dataset pmi dan kepadatan penduduk\n",
    "\n",
    "kedua, saya akan mengubah tipe data provinsi menjadi category, dan tipe data kepadatan penduduk menjadi int\n",
    "\n",
    "ketiga, saya akan mengubah yang kepadatan penduduk menjadi 4 kelas (< 150: rendah, 200-300 : sedang, 300-500: tinggi, >500:sangat tinggi)\n",
    "\n",
    "keempat, membuat EDA\n",
    "\n",
    "kemudian di klasifikasi mengambil 70% data untuk datatraining, dan 10% unutk data validasi\n",
    "\n",
    "hasilnya ternyata tidak sesuai dengan rencana"
   ]
  },
  {
   "cell_type": "code",
   "execution_count": 1,
   "id": "7b9cbf69",
   "metadata": {},
   "outputs": [
    {
     "name": "stderr",
     "output_type": "stream",
     "text": [
      "C:\\Users\\Azzahra Fahriza\\anaconda3\\lib\\site-packages\\xgboost\\compat.py:36: FutureWarning: pandas.Int64Index is deprecated and will be removed from pandas in a future version. Use pandas.Index with the appropriate dtype instead.\n",
      "  from pandas import MultiIndex, Int64Index\n"
     ]
    }
   ],
   "source": [
    "# Pertama-tama import data yang ada di excel\n",
    "%matplotlib inline\n",
    "import numpy as np\n",
    "import pandas as pd\n",
    "import matplotlib.pyplot as plt\n",
    "import seaborn as sns\n",
    "from sklearn import preprocessing\n",
    "from sklearn.model_selection import train_test_split\n",
    "import pickle\n",
    "from sklearn.naive_bayes import GaussianNB\n",
    "from sklearn.metrics import classification_report\n",
    "from sklearn.metrics import accuracy_score\n",
    "from sklearn import tree\n",
    "from sklearn.ensemble import RandomForestClassifier\n",
    "import xgboost as xgb\n",
    "from sklearn.metrics import confusion_matrix\n",
    "from sklearn.model_selection import cross_val_score\n",
    "from sklearn.metrics import make_scorer\n",
    "from sklearn.decomposition import PCA\n",
    "import joblib\n",
    "import pickle\n",
    "# from sklearn.externals import joblib"
   ]
  },
  {
   "cell_type": "code",
   "execution_count": 2,
   "id": "c9b18261",
   "metadata": {},
   "outputs": [],
   "source": [
    "df = pd.read_csv(\"C:\\\\Users\\\\Azzahra Fahriza\\\\Documents\\\\SEMESTER 3\\\\Data Mining\\\\uas\\\\dataset\\\\kepadatan_penduduk.csv\")\n",
    "df1 = pd.read_csv(\"C:\\\\Users\\\\Azzahra Fahriza\\\\Documents\\\\SEMESTER 3\\\\Data Mining\\\\uas\\\\dataset\\\\pmi.csv\")"
   ]
  },
  {
   "cell_type": "code",
   "execution_count": 3,
   "id": "6bc09585",
   "metadata": {},
   "outputs": [],
   "source": [
    "# menggabungkan 2 file cvs menjadi 1 pada df2\n",
    "df2=pd.merge(df1,df, how='left')"
   ]
  },
  {
   "cell_type": "code",
   "execution_count": 4,
   "id": "788a54bc",
   "metadata": {},
   "outputs": [
    {
     "data": {
      "text/html": [
       "<div>\n",
       "<style scoped>\n",
       "    .dataframe tbody tr th:only-of-type {\n",
       "        vertical-align: middle;\n",
       "    }\n",
       "\n",
       "    .dataframe tbody tr th {\n",
       "        vertical-align: top;\n",
       "    }\n",
       "\n",
       "    .dataframe thead th {\n",
       "        text-align: right;\n",
       "    }\n",
       "</style>\n",
       "<table border=\"1\" class=\"dataframe\">\n",
       "  <thead>\n",
       "    <tr style=\"text-align: right;\">\n",
       "      <th></th>\n",
       "      <th>tahun</th>\n",
       "    </tr>\n",
       "  </thead>\n",
       "  <tbody>\n",
       "    <tr>\n",
       "      <th>count</th>\n",
       "      <td>442.000000</td>\n",
       "    </tr>\n",
       "    <tr>\n",
       "      <th>mean</th>\n",
       "      <td>2016.000000</td>\n",
       "    </tr>\n",
       "    <tr>\n",
       "      <th>std</th>\n",
       "      <td>3.745897</td>\n",
       "    </tr>\n",
       "    <tr>\n",
       "      <th>min</th>\n",
       "      <td>2010.000000</td>\n",
       "    </tr>\n",
       "    <tr>\n",
       "      <th>25%</th>\n",
       "      <td>2013.000000</td>\n",
       "    </tr>\n",
       "    <tr>\n",
       "      <th>50%</th>\n",
       "      <td>2016.000000</td>\n",
       "    </tr>\n",
       "    <tr>\n",
       "      <th>75%</th>\n",
       "      <td>2019.000000</td>\n",
       "    </tr>\n",
       "    <tr>\n",
       "      <th>max</th>\n",
       "      <td>2022.000000</td>\n",
       "    </tr>\n",
       "  </tbody>\n",
       "</table>\n",
       "</div>"
      ],
      "text/plain": [
       "             tahun\n",
       "count   442.000000\n",
       "mean   2016.000000\n",
       "std       3.745897\n",
       "min    2010.000000\n",
       "25%    2013.000000\n",
       "50%    2016.000000\n",
       "75%    2019.000000\n",
       "max    2022.000000"
      ]
     },
     "execution_count": 4,
     "metadata": {},
     "output_type": "execute_result"
    }
   ],
   "source": [
    "df2.describe()"
   ]
  },
  {
   "cell_type": "code",
   "execution_count": 5,
   "id": "c36e7f0f",
   "metadata": {},
   "outputs": [
    {
     "data": {
      "text/html": [
       "<div>\n",
       "<style scoped>\n",
       "    .dataframe tbody tr th:only-of-type {\n",
       "        vertical-align: middle;\n",
       "    }\n",
       "\n",
       "    .dataframe tbody tr th {\n",
       "        vertical-align: top;\n",
       "    }\n",
       "\n",
       "    .dataframe thead th {\n",
       "        text-align: right;\n",
       "    }\n",
       "</style>\n",
       "<table border=\"1\" class=\"dataframe\">\n",
       "  <thead>\n",
       "    <tr style=\"text-align: right;\">\n",
       "      <th></th>\n",
       "      <th>prov</th>\n",
       "      <th>tahun</th>\n",
       "      <th>kategori_pmi</th>\n",
       "      <th>kepadatan_penduduk</th>\n",
       "    </tr>\n",
       "  </thead>\n",
       "  <tbody>\n",
       "    <tr>\n",
       "      <th>0</th>\n",
       "      <td>ACEH</td>\n",
       "      <td>2022</td>\n",
       "      <td>TINGGI</td>\n",
       "      <td>NaN</td>\n",
       "    </tr>\n",
       "    <tr>\n",
       "      <th>1</th>\n",
       "      <td>SUMATERA UTARA</td>\n",
       "      <td>2022</td>\n",
       "      <td>TINGGI</td>\n",
       "      <td>NaN</td>\n",
       "    </tr>\n",
       "    <tr>\n",
       "      <th>2</th>\n",
       "      <td>SUMATERA BARAT</td>\n",
       "      <td>2022</td>\n",
       "      <td>TINGGI</td>\n",
       "      <td>NaN</td>\n",
       "    </tr>\n",
       "    <tr>\n",
       "      <th>3</th>\n",
       "      <td>RIAU</td>\n",
       "      <td>2022</td>\n",
       "      <td>TINGGI</td>\n",
       "      <td>NaN</td>\n",
       "    </tr>\n",
       "    <tr>\n",
       "      <th>4</th>\n",
       "      <td>JAMBI</td>\n",
       "      <td>2022</td>\n",
       "      <td>TINGGI</td>\n",
       "      <td>NaN</td>\n",
       "    </tr>\n",
       "    <tr>\n",
       "      <th>5</th>\n",
       "      <td>SUMATERA SELATAN</td>\n",
       "      <td>2022</td>\n",
       "      <td>TINGGI</td>\n",
       "      <td>NaN</td>\n",
       "    </tr>\n",
       "    <tr>\n",
       "      <th>6</th>\n",
       "      <td>BENGKULU</td>\n",
       "      <td>2022</td>\n",
       "      <td>TINGGI</td>\n",
       "      <td>NaN</td>\n",
       "    </tr>\n",
       "    <tr>\n",
       "      <th>7</th>\n",
       "      <td>LAMPUNG</td>\n",
       "      <td>2022</td>\n",
       "      <td>TINGGI</td>\n",
       "      <td>NaN</td>\n",
       "    </tr>\n",
       "    <tr>\n",
       "      <th>8</th>\n",
       "      <td>KEP. BANGKA BELITUNG</td>\n",
       "      <td>2022</td>\n",
       "      <td>TINGGI</td>\n",
       "      <td>NaN</td>\n",
       "    </tr>\n",
       "    <tr>\n",
       "      <th>9</th>\n",
       "      <td>KEP. RIAU</td>\n",
       "      <td>2022</td>\n",
       "      <td>TINGGI</td>\n",
       "      <td>NaN</td>\n",
       "    </tr>\n",
       "  </tbody>\n",
       "</table>\n",
       "</div>"
      ],
      "text/plain": [
       "                   prov  tahun kategori_pmi kepadatan_penduduk\n",
       "0                  ACEH   2022       TINGGI                NaN\n",
       "1        SUMATERA UTARA   2022       TINGGI                NaN\n",
       "2        SUMATERA BARAT   2022       TINGGI                NaN\n",
       "3                  RIAU   2022       TINGGI                NaN\n",
       "4                 JAMBI   2022       TINGGI                NaN\n",
       "5      SUMATERA SELATAN   2022       TINGGI                NaN\n",
       "6              BENGKULU   2022       TINGGI                NaN\n",
       "7               LAMPUNG   2022       TINGGI                NaN\n",
       "8  KEP. BANGKA BELITUNG   2022       TINGGI                NaN\n",
       "9             KEP. RIAU   2022       TINGGI                NaN"
      ]
     },
     "execution_count": 5,
     "metadata": {},
     "output_type": "execute_result"
    }
   ],
   "source": [
    "df2.head(10)"
   ]
  },
  {
   "cell_type": "code",
   "execution_count": 6,
   "id": "b7debcf6",
   "metadata": {},
   "outputs": [
    {
     "name": "stdout",
     "output_type": "stream",
     "text": [
      "=================================================\n",
      "=================================================\n"
     ]
    },
    {
     "data": {
      "text/plain": [
       "prov                    0\n",
       "tahun                   0\n",
       "kategori_pmi            0\n",
       "kepadatan_penduduk    170\n",
       "dtype: int64"
      ]
     },
     "execution_count": 6,
     "metadata": {},
     "output_type": "execute_result"
    }
   ],
   "source": [
    "df.isnull().sum()\n",
    "print(\"=================================================\")\n",
    "df1.isnull().sum()\n",
    "print(\"=================================================\")\n",
    "df2.isnull().sum()"
   ]
  },
  {
   "cell_type": "code",
   "execution_count": 7,
   "id": "a9022253",
   "metadata": {},
   "outputs": [],
   "source": [
    "df[\"prov\"]=df[\"prov\"].astype('category')\n",
    "df1[\"prov\"]=df1[\"prov\"].astype('category')\n",
    "df2[\"prov\"]=df2[\"prov\"].astype('category')\n",
    "# df[\"kepadatan_penduduk\"] = df[\"kepadatan_penduduk\"].astype('int')\n",
    "# df = df.astype({'kepadatan_penduduk':'int'})\n",
    "# df[\"kepadatan_penduduk\"] = df[\"kepadatan_penduduk\"].astype(object).astype(float)"
   ]
  },
  {
   "cell_type": "code",
   "execution_count": 8,
   "id": "ace77cca",
   "metadata": {},
   "outputs": [],
   "source": [
    "df2[\"prov\"]=df2[\"prov\"].astype('category')\n",
    "df2[\"kategori_pmi\"]=df2[\"kategori_pmi\"].astype('category')\n",
    "df2[\"kepadatan_penduduk\"]=df2[\"kepadatan_penduduk\"].astype('category')"
   ]
  },
  {
   "cell_type": "code",
   "execution_count": 9,
   "id": "c0d6a629",
   "metadata": {},
   "outputs": [
    {
     "name": "stdout",
     "output_type": "stream",
     "text": [
      "<class 'pandas.core.frame.DataFrame'>\n",
      "RangeIndex: 280 entries, 0 to 279\n",
      "Data columns (total 3 columns):\n",
      " #   Column              Non-Null Count  Dtype   \n",
      "---  ------              --------------  -----   \n",
      " 0   prov                280 non-null    category\n",
      " 1   tahun               280 non-null    int64   \n",
      " 2   kepadatan_penduduk  280 non-null    object  \n",
      "dtypes: category(1), int64(1), object(1)\n",
      "memory usage: 6.1+ KB\n",
      "=================================================\n",
      "<class 'pandas.core.frame.DataFrame'>\n",
      "RangeIndex: 442 entries, 0 to 441\n",
      "Data columns (total 3 columns):\n",
      " #   Column        Non-Null Count  Dtype   \n",
      "---  ------        --------------  -----   \n",
      " 0   prov          442 non-null    category\n",
      " 1   tahun         442 non-null    int64   \n",
      " 2   kategori_pmi  442 non-null    object  \n",
      "dtypes: category(1), int64(1), object(1)\n",
      "memory usage: 8.8+ KB\n",
      "=================================================\n",
      "<class 'pandas.core.frame.DataFrame'>\n",
      "Int64Index: 442 entries, 0 to 441\n",
      "Data columns (total 4 columns):\n",
      " #   Column              Non-Null Count  Dtype   \n",
      "---  ------              --------------  -----   \n",
      " 0   prov                442 non-null    category\n",
      " 1   tahun               442 non-null    int64   \n",
      " 2   kategori_pmi        442 non-null    category\n",
      " 3   kepadatan_penduduk  272 non-null    category\n",
      "dtypes: category(3), int64(1)\n",
      "memory usage: 15.6 KB\n"
     ]
    }
   ],
   "source": [
    "df.info()\n",
    "print(\"=================================================\")\n",
    "df1.info()\n",
    "print(\"=================================================\")\n",
    "df2.info()"
   ]
  },
  {
   "cell_type": "code",
   "execution_count": 10,
   "id": "102d5e39",
   "metadata": {},
   "outputs": [],
   "source": [
    "df2 = df2.dropna()"
   ]
  },
  {
   "cell_type": "code",
   "execution_count": 11,
   "id": "43533bef",
   "metadata": {},
   "outputs": [],
   "source": [
    "# mengubah angka dari kepadatan penduduk menjadi kategori (sedang, padat, sangat padat)????"
   ]
  },
  {
   "cell_type": "code",
   "execution_count": 12,
   "id": "6d5b9f94",
   "metadata": {},
   "outputs": [
    {
     "data": {
      "text/plain": [
       "<AxesSubplot:xlabel='tahun', ylabel='count'>"
      ]
     },
     "execution_count": 12,
     "metadata": {},
     "output_type": "execute_result"
    },
    {
     "data": {
      "image/png": "[encoded data removed]",
      "text/plain": [
       "<Figure size 1440x360 with 1 Axes>"
      ]
     },
     "metadata": {
      "needs_background": "light"
     },
     "output_type": "display_data"
    }
   ],
   "source": [
    "fig, ax = plt.subplots(figsize=(20, 5)) #atur ukuran chart\n",
    "sns.countplot(ax=ax, x=\"tahun\", hue=\"kategori_pmi\", data=df2)\n"
   ]
  },
  {
   "cell_type": "code",
   "execution_count": 13,
   "id": "b23743a1",
   "metadata": {},
   "outputs": [
    {
     "data": {
      "text/plain": [
       "<AxesSubplot:xlabel='count', ylabel='prov'>"
      ]
     },
     "execution_count": 13,
     "metadata": {},
     "output_type": "execute_result"
    },
    {
     "data": {
      "image/png": "[encoded data removed]",
      "text/plain": [
       "<Figure size 1800x1080 with 1 Axes>"
      ]
     },
     "metadata": {
      "needs_background": "light"
     },
     "output_type": "display_data"
    }
   ],
   "source": [
    "fig, ax = plt.subplots(figsize=(25, 15)) #atur ukuran chart\n",
    "sns.countplot(ax=ax, y=\"prov\",hue=\"kategori_pmi\", data=df2)\n"
   ]
  },
  {
   "cell_type": "markdown",
   "id": "9f46c414",
   "metadata": {},
   "source": [
    "## Pembuatan Model"
   ]
  },
  {
   "cell_type": "code",
   "execution_count": 14,
   "id": "0f44b2ec",
   "metadata": {},
   "outputs": [],
   "source": [
    "# Creeted df_train\n",
    "df_train = df2.drop(['tahun', 'prov'],axis=1)"
   ]
  },
  {
   "cell_type": "code",
   "execution_count": 15,
   "id": "eea65173",
   "metadata": {},
   "outputs": [
    {
     "name": "stdout",
     "output_type": "stream",
     "text": [
      "<class 'pandas.core.frame.DataFrame'>\n",
      "Int64Index: 272 entries, 34 to 441\n",
      "Data columns (total 2 columns):\n",
      " #   Column              Non-Null Count  Dtype   \n",
      "---  ------              --------------  -----   \n",
      " 0   kategori_pmi        272 non-null    category\n",
      " 1   kepadatan_penduduk  272 non-null    category\n",
      "dtypes: category(2)\n",
      "memory usage: 8.6 KB\n"
     ]
    }
   ],
   "source": [
    "df_train.info()"
   ]
  },
  {
   "cell_type": "code",
   "execution_count": 16,
   "id": "df97f5b5",
   "metadata": {},
   "outputs": [],
   "source": [
    "# Dummies\n",
    "df_train = pd.get_dummies(data=df_train, columns=['kategori_pmi','kepadatan_penduduk'])"
   ]
  },
  {
   "cell_type": "code",
   "execution_count": 17,
   "id": "1a10cb68",
   "metadata": {},
   "outputs": [],
   "source": [
    "# penentuan target\n",
    "# le = preprocessing.LabelEncoder()\n",
    "# le.fit(df_train.kategori_pmi)\n",
    "# Y = le.transform(df_train.kategori_pmi)"
   ]
  },
  {
   "cell_type": "code",
   "execution_count": 18,
   "id": "9401e75f",
   "metadata": {},
   "outputs": [],
   "source": [
    "# df_train.kategori_pmi.value_counts()"
   ]
  },
  {
   "cell_type": "code",
   "execution_count": 19,
   "id": "a43a5189",
   "metadata": {},
   "outputs": [],
   "source": [
    "# # Pickle\n",
    "# with open ('C:\\\\Users\\\\Azzahra Fahriza\\\\Documents\\\\SEMESTER 3\\\\Data Mining\\\\uas\\\\dataset\\\\data.pickle', 'rb') as fp:\n",
    "#  X_train_column = list(pickle.load(fp))\n",
    " \n",
    "# df_prediksi2 = df_train[X_train_column]\n"
   ]
  },
  {
   "cell_type": "code",
   "execution_count": 20,
   "id": "f336f547",
   "metadata": {},
   "outputs": [],
   "source": [
    "\n",
    "# Split dataset\n",
    "X_train,X_test,Y_train,Y_test=train_test_split(df_train,df_train,test_size=0.2,random_state=123)"
   ]
  },
  {
   "cell_type": "code",
   "execution_count": 21,
   "id": "4b2dec41",
   "metadata": {},
   "outputs": [],
   "source": [
    "# m_scaler = preprocessing.MinMaxScaler()\n",
    "# X_train_minmax = mm_scaler.fit_transform(X_train)\n",
    "# X_test_minmax = mm_scaler.transform(X_test)"
   ]
  },
  {
   "cell_type": "code",
   "execution_count": 22,
   "id": "b51f3154",
   "metadata": {},
   "outputs": [
    {
     "name": "stdout",
     "output_type": "stream",
     "text": [
      "Akurasi 0.34545454545454546\n",
      "              precision    recall  f1-score   support\n",
      "\n",
      "           0       1.00      1.00      1.00         4\n",
      "           1       0.00      0.00      0.00         0\n",
      "           2       1.00      1.00      1.00        37\n",
      "           3       1.00      1.00      1.00        14\n",
      "           4       0.00      0.00      0.00         1\n",
      "           5       1.00      1.00      1.00         1\n",
      "           6       0.00      0.00      0.00         0\n",
      "           7       0.00      0.00      0.00         0\n",
      "           8       0.00      0.00      0.00         1\n",
      "           9       1.00      1.00      1.00         1\n",
      "          10       0.00      0.00      0.00         0\n",
      "          11       1.00      1.00      1.00         1\n",
      "          12       0.00      0.00      0.00         0\n",
      "          13       0.00      0.00      0.00         0\n",
      "          14       0.00      0.00      0.00         0\n",
      "          15       0.00      0.00      0.00         0\n",
      "          16       0.00      0.00      0.00         1\n",
      "          17       0.00      0.00      0.00         1\n",
      "          18       1.00      1.00      1.00         1\n",
      "          19       0.00      0.00      0.00         1\n",
      "          20       0.00      0.00      0.00         0\n",
      "          21       0.00      0.00      0.00         1\n",
      "          22       0.00      0.00      0.00         0\n",
      "          23       0.00      0.00      0.00         0\n",
      "          24       0.00      0.00      0.00         0\n",
      "          25       0.00      0.00      0.00         0\n",
      "          26       0.00      0.00      0.00         0\n",
      "          27       0.00      0.00      0.00         0\n",
      "          28       0.00      0.00      0.00         0\n",
      "          29       0.00      0.00      0.00         0\n",
      "          30       0.00      0.00      0.00         0\n",
      "          31       0.00      0.00      0.00         0\n",
      "          32       0.00      0.00      0.00         0\n",
      "          33       0.00      0.00      0.00         0\n",
      "          34       0.00      0.00      0.00         0\n",
      "          35       0.00      0.00      0.00         0\n",
      "          36       0.00      0.00      0.00         0\n",
      "          37       0.00      0.00      0.00         0\n",
      "          38       0.00      0.00      0.00         0\n",
      "          39       0.00      0.00      0.00         0\n",
      "          40       0.00      0.00      0.00         0\n",
      "          41       0.00      0.00      0.00         1\n",
      "          42       0.00      0.00      0.00         0\n",
      "          43       0.00      0.00      0.00         0\n",
      "          44       0.00      0.00      0.00         0\n",
      "          45       0.00      0.00      0.00         0\n",
      "          46       0.00      0.00      0.00         0\n",
      "          47       0.00      0.00      0.00         0\n",
      "          48       0.00      0.00      0.00         0\n",
      "          49       0.00      0.00      0.00         0\n",
      "          50       0.00      0.00      0.00         1\n",
      "          51       0.00      0.00      0.00         0\n",
      "          52       0.00      0.00      0.00         0\n",
      "          53       0.00      0.00      0.00         0\n",
      "          54       0.00      0.00      0.00         0\n",
      "          55       0.00      0.00      0.00         0\n",
      "          56       0.00      0.00      0.00         0\n",
      "          57       0.00      0.00      0.00         1\n",
      "          58       0.00      0.00      0.00         0\n",
      "          59       0.00      0.00      0.00         0\n",
      "          60       0.00      0.00      0.00         0\n",
      "          61       0.00      0.00      0.00         0\n",
      "          62       0.00      0.00      0.00         0\n",
      "          63       0.00      0.00      0.00         0\n",
      "          64       0.00      0.00      0.00         0\n",
      "          65       0.00      0.00      0.00         0\n",
      "          66       0.00      0.00      0.00         0\n",
      "          67       0.00      0.00      0.00         2\n",
      "          68       0.00      0.00      0.00         0\n",
      "          69       0.00      0.00      0.00         0\n",
      "          70       0.00      0.00      0.00         1\n",
      "          71       0.00      0.00      0.00         0\n",
      "          72       0.00      0.00      0.00         0\n",
      "          73       0.00      0.00      0.00         0\n",
      "          74       0.00      0.00      0.00         0\n",
      "          75       0.00      0.00      0.00         0\n",
      "          76       1.00      1.00      1.00         1\n",
      "          77       0.00      0.00      0.00         0\n",
      "          78       0.00      0.00      0.00         0\n",
      "          79       0.00      0.00      0.00         0\n",
      "          80       0.00      0.00      0.00         1\n",
      "          81       0.00      0.00      0.00         0\n",
      "          82       0.00      0.00      0.00         0\n",
      "          83       0.00      0.00      0.00         0\n",
      "          84       0.00      0.00      0.00         1\n",
      "          85       0.00      0.00      0.00         0\n",
      "          86       0.00      0.00      0.00         0\n",
      "          87       0.00      0.00      0.00         0\n",
      "          88       0.00      0.00      0.00         0\n",
      "          89       0.00      0.00      0.00         0\n",
      "          90       0.00      0.00      0.00         0\n",
      "          91       0.00      0.00      0.00         0\n",
      "          92       0.00      0.00      0.00         0\n",
      "          93       0.00      0.00      0.00         1\n",
      "          94       0.00      0.00      0.00         0\n",
      "          95       0.00      0.00      0.00         0\n",
      "          96       0.00      0.00      0.00         0\n",
      "          97       0.00      0.00      0.00         1\n",
      "          98       0.00      0.00      0.00         0\n",
      "          99       0.00      0.00      0.00         0\n",
      "         100       0.00      0.00      0.00         1\n",
      "         101       0.00      0.00      0.00         0\n",
      "         102       0.00      0.00      0.00         0\n",
      "         103       0.00      0.00      0.00         0\n",
      "         104       0.00      0.00      0.00         1\n",
      "         105       0.00      0.00      0.00         0\n",
      "         106       0.00      0.00      0.00         0\n",
      "         107       0.00      0.00      0.00         0\n",
      "         108       0.00      0.00      0.00         0\n",
      "         109       0.00      0.00      0.00         0\n",
      "         110       0.00      0.00      0.00         0\n",
      "         111       0.00      0.00      0.00         0\n",
      "         112       0.00      0.00      0.00         0\n",
      "         113       0.00      0.00      0.00         1\n",
      "         114       0.00      0.00      0.00         0\n",
      "         115       0.00      0.00      0.00         0\n",
      "         116       0.00      0.00      0.00         0\n",
      "         117       0.00      0.00      0.00         1\n",
      "         118       0.00      0.00      0.00         0\n",
      "         119       0.00      0.00      0.00         0\n",
      "         120       0.00      0.00      0.00         0\n",
      "         121       1.00      1.00      1.00         1\n",
      "         122       1.00      1.00      1.00         1\n",
      "         123       1.00      1.00      1.00         2\n",
      "         124       0.00      0.00      0.00         0\n",
      "         125       0.00      0.00      0.00         0\n",
      "         126       1.00      1.00      1.00         1\n",
      "         127       0.00      0.00      0.00         1\n",
      "         128       0.00      0.00      0.00         0\n",
      "         129       0.00      0.00      0.00         0\n",
      "         130       0.00      0.00      0.00         0\n",
      "         131       0.00      0.00      0.00         2\n",
      "         132       0.00      0.00      0.00         0\n",
      "         133       0.00      0.00      0.00         0\n",
      "         134       0.00      0.00      0.00         0\n",
      "         135       0.00      0.00      0.00         1\n",
      "         136       0.00      0.00      0.00         0\n",
      "         137       1.00      1.00      1.00         1\n",
      "         138       1.00      1.00      1.00         1\n",
      "         139       0.00      0.00      0.00         1\n",
      "         140       0.00      0.00      0.00         0\n",
      "         141       0.00      0.00      0.00         0\n",
      "         142       0.00      0.00      0.00         1\n",
      "         143       0.00      0.00      0.00         0\n",
      "         144       0.00      0.00      0.00         0\n",
      "         145       1.00      1.00      1.00         1\n",
      "         146       0.00      0.00      0.00         0\n",
      "         147       0.00      0.00      0.00         0\n",
      "         148       1.00      1.00      1.00         1\n",
      "         149       0.00      0.00      0.00         0\n",
      "         150       0.00      0.00      0.00         0\n",
      "         151       0.00      0.00      0.00         1\n",
      "         152       0.00      0.00      0.00         0\n",
      "         153       1.00      1.00      1.00         1\n",
      "         154       0.00      0.00      0.00         0\n",
      "         155       0.00      0.00      0.00         0\n",
      "         156       0.00      0.00      0.00         0\n",
      "         157       1.00      1.00      1.00         1\n",
      "         158       0.00      0.00      0.00         0\n",
      "         159       0.00      0.00      0.00         1\n",
      "         160       0.00      0.00      0.00         1\n",
      "         161       0.00      0.00      0.00         1\n",
      "         162       0.00      0.00      0.00         1\n",
      "         163       0.00      0.00      0.00         0\n",
      "         164       0.00      0.00      0.00         0\n",
      "         165       0.00      0.00      0.00         0\n",
      "         166       0.00      0.00      0.00         0\n",
      "         167       0.00      0.00      0.00         1\n",
      "         168       0.00      0.00      0.00         0\n",
      "         169       1.00      1.00      1.00         1\n",
      "         170       0.00      0.00      0.00         0\n",
      "         171       0.00      0.00      0.00         0\n",
      "         172       1.00      1.00      1.00         1\n",
      "         173       0.00      0.00      0.00         0\n",
      "         174       0.00      0.00      0.00         0\n",
      "         175       0.00      0.00      0.00         2\n",
      "         176       0.00      0.00      0.00         0\n",
      "         177       0.00      0.00      0.00         0\n",
      "         178       0.00      0.00      0.00         0\n",
      "         179       0.00      0.00      0.00         0\n",
      "         180       0.00      0.00      0.00         0\n",
      "         181       1.00      1.00      1.00         1\n",
      "         182       0.00      0.00      0.00         0\n",
      "         183       0.00      0.00      0.00         1\n",
      "         184       0.00      0.00      0.00         0\n",
      "         185       0.00      0.00      0.00         1\n",
      "         186       0.00      0.00      0.00         0\n",
      "\n",
      "   micro avg       1.00      0.67      0.80       110\n",
      "   macro avg       0.11      0.11      0.11       110\n",
      "weighted avg       0.67      0.67      0.67       110\n",
      " samples avg       1.00      0.67      0.78       110\n",
      "\n"
     ]
    },
    {
     "name": "stderr",
     "output_type": "stream",
     "text": [
      "C:\\Users\\Azzahra Fahriza\\anaconda3\\lib\\site-packages\\sklearn\\metrics\\_classification.py:1318: UndefinedMetricWarning: Precision and F-score are ill-defined and being set to 0.0 in labels with no predicted samples. Use `zero_division` parameter to control this behavior.\n",
      "  _warn_prf(average, modifier, msg_start, len(result))\n",
      "C:\\Users\\Azzahra Fahriza\\anaconda3\\lib\\site-packages\\sklearn\\metrics\\_classification.py:1318: UndefinedMetricWarning: Recall and F-score are ill-defined and being set to 0.0 in labels with no true samples. Use `zero_division` parameter to control this behavior.\n",
      "  _warn_prf(average, modifier, msg_start, len(result))\n"
     ]
    }
   ],
   "source": [
    "#  Modeling\n",
    "clf = RandomForestClassifier(n_estimators=50, random_state=123)\n",
    "clf.fit(X_train, Y_train)\n",
    "Y_pred = clf.predict(X_test)\n",
    "acc = accuracy_score(Y_test, Y_pred)\n",
    "print(\"Akurasi {}\".format(acc))\n",
    "print(classification_report(Y_test, Y_pred))"
   ]
  },
  {
   "cell_type": "code",
   "execution_count": null,
   "id": "1346a5ba",
   "metadata": {},
   "outputs": [],
   "source": []
  }
 ],
 "metadata": {
  "kernelspec": {
   "display_name": "Python 3 (ipykernel)",
   "language": "python",
   "name": "python3"
  },
  "language_info": {
   "codemirror_mode": {
    "name": "ipython",
    "version": 3
   },
   "file_extension": ".py",
   "mimetype": "text/x-python",
   "name": "python",
   "nbconvert_exporter": "python",
   "pygments_lexer": "ipython3",
   "version": "3.9.12"
  }
 },
 "nbformat": 4,
 "nbformat_minor": 5
}
